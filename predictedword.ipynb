{
 "cells": [
  {
   "cell_type": "markdown",
   "id": "naval-hazard",
   "metadata": {
    "tags": []
   },
   "source": [
    "# PREDICTED WORD"
   ]
  },
  {
   "cell_type": "markdown",
   "id": "colored-burns",
   "metadata": {},
   "source": [
    "## Import Library"
   ]
  },
  {
   "cell_type": "code",
   "execution_count": 1,
   "id": "packed-violation",
   "metadata": {},
   "outputs": [],
   "source": [
    "import tensorflow as tf\n",
    "from tensorflow.keras.preprocessing.sequence import pad_sequences\n",
    "from tensorflow.keras.preprocessing.text import Tokenizer\n",
    "from tensorflow.keras.layers import Embedding, LSTM, Dense, Bidirectional\n",
    "from tensorflow.keras.models import Sequential\n",
    "from tensorflow.keras.optimizers import Adam\n",
    "import numpy as np\n",
    "import matplotlib.pyplot as plt"
   ]
  },
  {
   "cell_type": "markdown",
   "id": "opened-plumbing",
   "metadata": {},
   "source": [
    "## Mengambil File "
   ]
  },
  {
   "cell_type": "code",
   "execution_count": null,
   "id": "frank-queue",
   "metadata": {
    "tags": []
   },
   "outputs": [],
   "source": [
    "file_location = r'C:\\Users\\muhammadalfarizi\\Documents\\MyNotebook\\NLP\\BigData\\irish-lyrics-eof.txt'\n",
    "with open(file_location, 'r') as file:\n",
    "    for line in file:\n",
    "        print(line)"
   ]
  },
  {
   "cell_type": "markdown",
   "id": "southern-obligation",
   "metadata": {},
   "source": [
    "## Membagi file menjadi himpunan kalimat"
   ]
  },
  {
   "cell_type": "code",
   "execution_count": 3,
   "id": "legendary-baltimore",
   "metadata": {},
   "outputs": [],
   "source": [
    "with open(file_location, 'r') as file:\n",
    "    readfile = file.read()\n",
    "    himp_kalimat = readfile.lower().split(\"\\n\")"
   ]
  },
  {
   "cell_type": "markdown",
   "id": "residential-ticket",
   "metadata": {},
   "source": [
    "## Tokenisasi"
   ]
  },
  {
   "cell_type": "code",
   "execution_count": 4,
   "id": "varied-embassy",
   "metadata": {},
   "outputs": [
    {
     "name": "stdout",
     "output_type": "stream",
     "text": [
      "Banyak Word Index = 2689 index\n"
     ]
    }
   ],
   "source": [
    "tokenizer = Tokenizer()\n",
    "tokenizer.fit_on_texts(himp_kalimat)\n",
    "word_index = tokenizer.word_index\n",
    "\n",
    "print(\"Banyak Word Index = {} index\".format(len(word_index)))\n",
    "total_words = len(word_index) + 1"
   ]
  },
  {
   "cell_type": "code",
   "execution_count": 5,
   "id": "engaged-fundamentals",
   "metadata": {},
   "outputs": [
    {
     "name": "stdout",
     "output_type": "stream",
     "text": [
      "Maximal Length of Sentences = 16 Word\n"
     ]
    }
   ],
   "source": [
    "input_sequence = []\n",
    "\n",
    "for kalimat in himp_kalimat:\n",
    "    token_list = tokenizer.texts_to_sequences([kalimat])\n",
    "    # didalem texts_to_sequence parameter nya pake [] lagi buat negesin kalo setiap kata dari kalimat itu adalah elemen list\n",
    "    \n",
    "## coba uncomment ini buat liat debug\n",
    "#     print(\"Kalimat = {}, Token = {}\".format(kalimat, token_list))\n",
    "#     print(token_list)\n",
    "#     print(token_list[0])\n",
    "#     print()\n",
    "\n",
    "    # jadi hasil dari texts_to_sequence adalah list yang isinya cuma 1 anaklist dimana anak list itu punya elemen elemen berupa kata kata dari kalimat\n",
    "    # makanya perlu diambil anaklist dari list tersebut. karna anaknya cuma 1, manggil anaknya tinggal pake index 0 aja\n",
    "    token_list = token_list[0]\n",
    "#     print(token_list)\n",
    "    \n",
    "    for i in range(1, len(token_list)):\n",
    "        n_gram_sequence = token_list[:i+1]\n",
    "#         print(n_gram_sequence)\n",
    "        input_sequence.append(n_gram_sequence)\n",
    "#     print()\n",
    "    \n",
    "max_sequence_length = max([len(x) for x in input_sequence])\n",
    "print(\"Maximal Length of Sentences = {} Word\".format(max_sequence_length))"
   ]
  },
  {
   "cell_type": "markdown",
   "id": "welcome-stevens",
   "metadata": {},
   "source": [
    "## Padding"
   ]
  },
  {
   "cell_type": "code",
   "execution_count": 6,
   "id": "executed-transportation",
   "metadata": {},
   "outputs": [],
   "source": [
    "input_sequence = np.array(\n",
    "    pad_sequences(\n",
    "        input_sequence,\n",
    "        maxlen = max_sequence_length,\n",
    "        padding = 'pre'\n",
    "    )\n",
    ")"
   ]
  },
  {
   "cell_type": "markdown",
   "id": "computational-carnival",
   "metadata": {},
   "source": [
    "## Misahin Kalimat\n",
    "\n",
    "kalimat akan dipisah menjadi data training dan label\n",
    "\n",
    "misal kalimat [1, 2, 3, 4, 5, 6]\n",
    "\n",
    "maka akan dipisah menjadi data training = [1, 2, 3, 4, 5]\n",
    "\n",
    "dan label =[6]\n",
    "\n",
    "\n",
    "kemudian label akan diubah menjadi kategorikal misal ada 10 kata\n",
    "\n",
    "maka label [6] akan berubah jadi [0, 0, 0, 0, 0, 0, 1, 0, 0, 0, 0]\n"
   ]
  },
  {
   "cell_type": "code",
   "execution_count": 7,
   "id": "greatest-coach",
   "metadata": {},
   "outputs": [],
   "source": [
    "xs = input_sequence[:, :-1]\n",
    "labels = input_sequence[:, -1]\n",
    "\n",
    "ys = tf.keras.utils.to_categorical(labels, num_classes = total_words)"
   ]
  },
  {
   "cell_type": "markdown",
   "id": "selective-captain",
   "metadata": {},
   "source": [
    "## Build Neural Network"
   ]
  },
  {
   "cell_type": "code",
   "execution_count": 8,
   "id": "bottom-demand",
   "metadata": {},
   "outputs": [],
   "source": [
    "EMBEDDING_DIM = 100\n",
    "OPTIMIZER = Adam(lr = 0.01)\n",
    "EPOCH = 50"
   ]
  },
  {
   "cell_type": "code",
   "execution_count": 9,
   "id": "postal-brief",
   "metadata": {},
   "outputs": [],
   "source": [
    "model = Sequential()\n",
    "model.add(\n",
    "    Embedding(\n",
    "        total_words,\n",
    "        EMBEDDING_DIM,\n",
    "        input_length = max_sequence_length-1, # dikurang 1 karena 1 nya adalah label\n",
    "    )\n",
    ")\n",
    "model.add(\n",
    "    Bidirectional(\n",
    "        LSTM(\n",
    "            150\n",
    "        )\n",
    "    )\n",
    ")\n",
    "model.add(\n",
    "    Dense(\n",
    "        total_words,\n",
    "        activation = 'softmax'\n",
    "    )\n",
    ")"
   ]
  },
  {
   "cell_type": "code",
   "execution_count": 10,
   "id": "bacterial-dryer",
   "metadata": {},
   "outputs": [
    {
     "name": "stdout",
     "output_type": "stream",
     "text": [
      "Model: \"sequential\"\n",
      "_________________________________________________________________\n",
      "Layer (type)                 Output Shape              Param #   \n",
      "=================================================================\n",
      "embedding (Embedding)        (None, 15, 100)           269000    \n",
      "_________________________________________________________________\n",
      "bidirectional (Bidirectional (None, 300)               301200    \n",
      "_________________________________________________________________\n",
      "dense (Dense)                (None, 2690)              809690    \n",
      "=================================================================\n",
      "Total params: 1,379,890\n",
      "Trainable params: 1,379,890\n",
      "Non-trainable params: 0\n",
      "_________________________________________________________________\n",
      "<tensorflow.python.keras.engine.sequential.Sequential object at 0x0000007925948708>\n"
     ]
    }
   ],
   "source": [
    "model.compile(\n",
    "    loss = 'categorical_crossentropy',\n",
    "    metrics = ['accuracy'],\n",
    "    optimizer = OPTIMIZER\n",
    ")\n",
    "\n",
    "model.summary()\n",
    "print(model)"
   ]
  },
  {
   "cell_type": "code",
   "execution_count": 11,
   "id": "circular-malawi",
   "metadata": {},
   "outputs": [
    {
     "name": "stdout",
     "output_type": "stream",
     "text": [
      "Epoch 1/50\n",
      "377/377 [==============================] - 30s 68ms/step - loss: 6.8836 - accuracy: 0.0587\n",
      "Epoch 2/50\n",
      "377/377 [==============================] - 26s 68ms/step - loss: 5.8527 - accuracy: 0.1016\n",
      "Epoch 3/50\n",
      "377/377 [==============================] - 26s 68ms/step - loss: 4.8249 - accuracy: 0.1719\n",
      "Epoch 4/50\n",
      "377/377 [==============================] - 26s 68ms/step - loss: 3.9089 - accuracy: 0.2499\n",
      "Epoch 5/50\n",
      "377/377 [==============================] - 27s 71ms/step - loss: 3.0550 - accuracy: 0.3599\n",
      "Epoch 6/50\n",
      "377/377 [==============================] - 26s 68ms/step - loss: 2.4107 - accuracy: 0.4571\n",
      "Epoch 7/50\n",
      "377/377 [==============================] - 26s 69ms/step - loss: 1.8985 - accuracy: 0.5649\n",
      "Epoch 8/50\n",
      "377/377 [==============================] - 26s 68ms/step - loss: 1.6156 - accuracy: 0.6248\n",
      "Epoch 9/50\n",
      "377/377 [==============================] - 26s 68ms/step - loss: 1.3988 - accuracy: 0.6620\n",
      "Epoch 10/50\n",
      "377/377 [==============================] - 26s 69ms/step - loss: 1.1898 - accuracy: 0.7172\n",
      "Epoch 11/50\n",
      "377/377 [==============================] - 26s 70ms/step - loss: 1.0810 - accuracy: 0.7327\n",
      "Epoch 12/50\n",
      "377/377 [==============================] - 26s 69ms/step - loss: 0.9478 - accuracy: 0.7647\n",
      "Epoch 13/50\n",
      "377/377 [==============================] - 26s 69ms/step - loss: 0.8738 - accuracy: 0.7832\n",
      "Epoch 14/50\n",
      "377/377 [==============================] - 26s 70ms/step - loss: 0.8625 - accuracy: 0.7812\n",
      "Epoch 15/50\n",
      "377/377 [==============================] - 26s 69ms/step - loss: 0.9619 - accuracy: 0.7595\n",
      "Epoch 16/50\n",
      "377/377 [==============================] - 26s 69ms/step - loss: 1.0560 - accuracy: 0.7253\n",
      "Epoch 17/50\n",
      "377/377 [==============================] - 26s 69ms/step - loss: 1.0623 - accuracy: 0.7251\n",
      "Epoch 18/50\n",
      "377/377 [==============================] - 26s 68ms/step - loss: 0.9115 - accuracy: 0.7606\n",
      "Epoch 19/50\n",
      "377/377 [==============================] - 26s 68ms/step - loss: 0.8441 - accuracy: 0.7832\n",
      "Epoch 20/50\n",
      "377/377 [==============================] - 26s 68ms/step - loss: 0.8048 - accuracy: 0.7879\n",
      "Epoch 21/50\n",
      "377/377 [==============================] - 26s 68ms/step - loss: 0.7944 - accuracy: 0.7936\n",
      "Epoch 22/50\n",
      "377/377 [==============================] - 26s 68ms/step - loss: 0.7945 - accuracy: 0.7921\n",
      "Epoch 23/50\n",
      "377/377 [==============================] - 26s 68ms/step - loss: 0.7459 - accuracy: 0.8021\n",
      "Epoch 24/50\n",
      "377/377 [==============================] - 26s 69ms/step - loss: 0.8303 - accuracy: 0.7815\n",
      "Epoch 25/50\n",
      "377/377 [==============================] - 26s 69ms/step - loss: 0.8612 - accuracy: 0.7723\n",
      "Epoch 26/50\n",
      "377/377 [==============================] - 26s 69ms/step - loss: 0.9822 - accuracy: 0.7405\n",
      "Epoch 27/50\n",
      "377/377 [==============================] - 26s 68ms/step - loss: 0.8968 - accuracy: 0.7611\n",
      "Epoch 28/50\n",
      "377/377 [==============================] - 26s 69ms/step - loss: 0.8724 - accuracy: 0.7613\n",
      "Epoch 29/50\n",
      "377/377 [==============================] - 26s 69ms/step - loss: 0.7873 - accuracy: 0.7915\n",
      "Epoch 30/50\n",
      "377/377 [==============================] - 26s 69ms/step - loss: 0.7819 - accuracy: 0.7916\n",
      "Epoch 31/50\n",
      "377/377 [==============================] - 26s 70ms/step - loss: 0.7897 - accuracy: 0.7930\n",
      "Epoch 32/50\n",
      "377/377 [==============================] - 26s 69ms/step - loss: 0.7935 - accuracy: 0.7902\n",
      "Epoch 33/50\n",
      "377/377 [==============================] - 26s 69ms/step - loss: 0.8160 - accuracy: 0.7790\n",
      "Epoch 34/50\n",
      "377/377 [==============================] - 26s 69ms/step - loss: 0.8438 - accuracy: 0.7690\n",
      "Epoch 35/50\n",
      "377/377 [==============================] - 25s 68ms/step - loss: 0.8581 - accuracy: 0.7662\n",
      "Epoch 36/50\n",
      "377/377 [==============================] - 32s 84ms/step - loss: 0.8121 - accuracy: 0.7788\n",
      "Epoch 37/50\n",
      "377/377 [==============================] - 32s 84ms/step - loss: 0.8065 - accuracy: 0.7797\n",
      "Epoch 38/50\n",
      "377/377 [==============================] - 27s 73ms/step - loss: 0.7670 - accuracy: 0.7924\n",
      "Epoch 39/50\n",
      "377/377 [==============================] - 30s 80ms/step - loss: 0.7850 - accuracy: 0.7885\n",
      "Epoch 40/50\n",
      "377/377 [==============================] - 30s 80ms/step - loss: 0.8201 - accuracy: 0.7776\n",
      "Epoch 41/50\n",
      "377/377 [==============================] - 36s 96ms/step - loss: 0.8524 - accuracy: 0.7724\n",
      "Epoch 42/50\n",
      "377/377 [==============================] - 36s 96ms/step - loss: 0.8399 - accuracy: 0.7713\n",
      "Epoch 43/50\n",
      "377/377 [==============================] - 28s 75ms/step - loss: 0.8324 - accuracy: 0.7750\n",
      "Epoch 44/50\n",
      "377/377 [==============================] - 27s 72ms/step - loss: 0.7685 - accuracy: 0.7940\n",
      "Epoch 45/50\n",
      "377/377 [==============================] - 27s 72ms/step - loss: 0.7215 - accuracy: 0.8036\n",
      "Epoch 46/50\n",
      "377/377 [==============================] - 27s 71ms/step - loss: 0.7019 - accuracy: 0.8067\n",
      "Epoch 47/50\n",
      "377/377 [==============================] - 27s 72ms/step - loss: 0.7591 - accuracy: 0.7894\n",
      "Epoch 48/50\n",
      "377/377 [==============================] - 26s 70ms/step - loss: 0.7653 - accuracy: 0.7955\n",
      "Epoch 49/50\n",
      "377/377 [==============================] - 27s 71ms/step - loss: 0.8308 - accuracy: 0.7715\n",
      "Epoch 50/50\n",
      "377/377 [==============================] - 27s 72ms/step - loss: 0.8793 - accuracy: 0.7602\n"
     ]
    }
   ],
   "source": [
    "history = model.fit(\n",
    "    xs,\n",
    "    ys,\n",
    "    epochs = EPOCH\n",
    ")"
   ]
  },
  {
   "cell_type": "code",
   "execution_count": 14,
   "id": "developmental-tongue",
   "metadata": {},
   "outputs": [],
   "source": [
    "def drawGraph(history, string):\n",
    "    plt.plot(history.history[string])\n",
    "    plt.xlabel('Epochs')\n",
    "    plt.ylabel(string)\n",
    "    plt.legend([string])\n",
    "    plt.title('NLP with Adam LR = 0.001')\n",
    "    plt.show()"
   ]
  },
  {
   "cell_type": "code",
   "execution_count": 15,
   "id": "extra-infection",
   "metadata": {},
   "outputs": [
    {
     "data": {
      "image/png": "[encoded data removed]",
      "text/plain": [
       "<Figure size 432x288 with 1 Axes>"
      ]
     },
     "metadata": {
      "needs_background": "light"
     },
     "output_type": "display_data"
    }
   ],
   "source": [
    "drawGraph(history, 'accuracy')"
   ]
  },
  {
   "cell_type": "code",
   "execution_count": 24,
   "id": "executed-world",
   "metadata": {},
   "outputs": [
    {
     "name": "stderr",
     "output_type": "stream",
     "text": [
      "c:\\users\\muhammadalfarizi\\appdata\\local\\programs\\python\\python37\\lib\\site-packages\\tensorflow\\python\\keras\\engine\\sequential.py:450: UserWarning: `model.predict_classes()` is deprecated and will be removed after 2021-01-01. Please use instead:* `np.argmax(model.predict(x), axis=-1)`,   if your model does multi-class classification   (e.g. if it uses a `softmax` last-layer activation).* `(model.predict(x) > 0.5).astype(\"int32\")`,   if your model does binary classification   (e.g. if it uses a `sigmoid` last-layer activation).\n",
      "  warnings.warn('`model.predict_classes()` is deprecated and '\n"
     ]
    },
    {
     "name": "stdout",
     "output_type": "stream",
     "text": [
      "I've got a bad feeling about this green and the girls they were hearty wind my love is gone and love eyes worsened eyes gone is right gone is right eyes gone is sighing gone gone gone gone is an tree to tree me tree to tree to tree wid me lads know by gone and gone is an youth gone gone gone and i love best gone and a fixed played right leg through miss finnertys hoops right bride hear your right eyes more right till gone is right leg right mchugh gone and the love eyes doesnt eyes eyes all right right till more right\n"
     ]
    }
   ],
   "source": [
    "contoh_text = \"I've got a bad feeling about this\"\n",
    "next_words = 100\n",
    "\n",
    "for _ in range(next_words):\n",
    "    token_list = tokenizer.texts_to_sequences([contoh_text])[0]\n",
    "    token_list = pad_sequences(\n",
    "        [token_list],\n",
    "        maxlen = max_sequence_length-1,\n",
    "        padding = 'pre'\n",
    "    )\n",
    "    predicted = model.predict_classes(\n",
    "        token_list,\n",
    "        verbose = 0\n",
    "    )\n",
    "    \n",
    "    output = \"\"\n",
    "    \n",
    "    for word, index in tokenizer.word_index.items():\n",
    "        if index == predicted:\n",
    "            output = word\n",
    "            break\n",
    "            \n",
    "    contoh_text += \" \" + output\n",
    "        \n",
    "print(contoh_text)"
   ]
  },
  {
   "cell_type": "code",
   "execution_count": null,
   "id": "active-allergy",
   "metadata": {},
   "outputs": [],
   "source": []
  }
 ],
 "metadata": {
  "kernelspec": {
   "display_name": "Python 3",
   "language": "python",
   "name": "python3"
  },
  "language_info": {
   "codemirror_mode": {
    "name": "ipython",
    "version": 3
   },
   "file_extension": ".py",
   "mimetype": "text/x-python",
   "name": "python",
   "nbconvert_exporter": "python",
   "pygments_lexer": "ipython3",
   "version": "3.7.9"
  }
 },
 "nbformat": 4,
 "nbformat_minor": 5
}
